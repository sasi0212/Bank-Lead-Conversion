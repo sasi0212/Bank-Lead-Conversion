{
 "cells": [
  {
   "cell_type": "code",
   "execution_count": 2,
   "metadata": {},
   "outputs": [],
   "source": [
    "# Importing neccessary libraries\n",
    "\n",
    "import numpy as np\n",
    "import pandas as pd\n",
    "import matplotlib.pyplot as plt\n",
    "import seaborn as sns\n",
    "import datetime as dt\n",
    "from dateutil.relativedelta import relativedelta\n",
    "import missingno as msno\n",
    "from scipy.stats import zscore\n",
    "from fancyimpute import IterativeImputer\n",
    "from sklearn.preprocessing import LabelEncoder, StandardScaler\n",
    "from scipy.stats import zscore\n",
    "from imblearn import over_sampling, under_sampling, combine\n",
    "from sklearn.model_selection import train_test_split, cross_val_score, GridSearchCV, StratifiedKFold\n",
    "from sklearn.linear_model import LogisticRegression\n",
    "from sklearn.naive_bayes import GaussianNB\n",
    "from sklearn.ensemble import RandomForestClassifier, GradientBoostingClassifier\n",
    "from sklearn.metrics import plot_confusion_matrix, classification_report, make_scorer, cohen_kappa_score\n",
    "from xgboost import XGBClassifier\n",
    "%matplotlib inline"
   ]
  },
  {
   "cell_type": "code",
   "execution_count": 168,
   "metadata": {},
   "outputs": [
    {
     "data": {
      "text/html": [
       "<div>\n",
       "<style scoped>\n",
       "    .dataframe tbody tr th:only-of-type {\n",
       "        vertical-align: middle;\n",
       "    }\n",
       "\n",
       "    .dataframe tbody tr th {\n",
       "        vertical-align: top;\n",
       "    }\n",
       "\n",
       "    .dataframe thead th {\n",
       "        text-align: right;\n",
       "    }\n",
       "</style>\n",
       "<table border=\"1\" class=\"dataframe\">\n",
       "  <thead>\n",
       "    <tr style=\"text-align: right;\">\n",
       "      <th></th>\n",
       "      <th>ID</th>\n",
       "      <th>Gender</th>\n",
       "      <th>DOB</th>\n",
       "      <th>Lead_Creation_Date</th>\n",
       "      <th>City_Code</th>\n",
       "      <th>City_Category</th>\n",
       "      <th>Employer_Code</th>\n",
       "      <th>Employer_Category1</th>\n",
       "      <th>Employer_Category2</th>\n",
       "      <th>Monthly_Income</th>\n",
       "      <th>...</th>\n",
       "      <th>Contacted</th>\n",
       "      <th>Source</th>\n",
       "      <th>Source_Category</th>\n",
       "      <th>Existing_EMI</th>\n",
       "      <th>Loan_Amount</th>\n",
       "      <th>Loan_Period</th>\n",
       "      <th>Interest_Rate</th>\n",
       "      <th>EMI</th>\n",
       "      <th>Var1</th>\n",
       "      <th>Approved</th>\n",
       "    </tr>\n",
       "  </thead>\n",
       "  <tbody>\n",
       "    <tr>\n",
       "      <th>0</th>\n",
       "      <td>APPC90493171225</td>\n",
       "      <td>Female</td>\n",
       "      <td>1979-07-23</td>\n",
       "      <td>2016-07-15</td>\n",
       "      <td>C10001</td>\n",
       "      <td>A</td>\n",
       "      <td>COM0044082</td>\n",
       "      <td>A</td>\n",
       "      <td>4.0</td>\n",
       "      <td>2000.0</td>\n",
       "      <td>...</td>\n",
       "      <td>N</td>\n",
       "      <td>S122</td>\n",
       "      <td>G</td>\n",
       "      <td>0.0</td>\n",
       "      <td>NaN</td>\n",
       "      <td>NaN</td>\n",
       "      <td>NaN</td>\n",
       "      <td>NaN</td>\n",
       "      <td>0</td>\n",
       "      <td>0</td>\n",
       "    </tr>\n",
       "    <tr>\n",
       "      <th>1</th>\n",
       "      <td>APPD40611263344</td>\n",
       "      <td>Male</td>\n",
       "      <td>1986-07-12</td>\n",
       "      <td>2016-04-07</td>\n",
       "      <td>C10003</td>\n",
       "      <td>A</td>\n",
       "      <td>COM0000002</td>\n",
       "      <td>C</td>\n",
       "      <td>1.0</td>\n",
       "      <td>3500.0</td>\n",
       "      <td>...</td>\n",
       "      <td>Y</td>\n",
       "      <td>S122</td>\n",
       "      <td>G</td>\n",
       "      <td>0.0</td>\n",
       "      <td>20000.0</td>\n",
       "      <td>2.0</td>\n",
       "      <td>13.25</td>\n",
       "      <td>953.0</td>\n",
       "      <td>10</td>\n",
       "      <td>0</td>\n",
       "    </tr>\n",
       "    <tr>\n",
       "      <th>2</th>\n",
       "      <td>APPE70289249423</td>\n",
       "      <td>Male</td>\n",
       "      <td>1982-10-12</td>\n",
       "      <td>2016-07-19</td>\n",
       "      <td>C10125</td>\n",
       "      <td>C</td>\n",
       "      <td>COM0005267</td>\n",
       "      <td>C</td>\n",
       "      <td>4.0</td>\n",
       "      <td>2250.0</td>\n",
       "      <td>...</td>\n",
       "      <td>Y</td>\n",
       "      <td>S143</td>\n",
       "      <td>B</td>\n",
       "      <td>0.0</td>\n",
       "      <td>45000.0</td>\n",
       "      <td>4.0</td>\n",
       "      <td>NaN</td>\n",
       "      <td>NaN</td>\n",
       "      <td>0</td>\n",
       "      <td>0</td>\n",
       "    </tr>\n",
       "    <tr>\n",
       "      <th>3</th>\n",
       "      <td>APPF80273865537</td>\n",
       "      <td>Male</td>\n",
       "      <td>1989-01-30</td>\n",
       "      <td>2016-09-07</td>\n",
       "      <td>C10477</td>\n",
       "      <td>C</td>\n",
       "      <td>COM0004143</td>\n",
       "      <td>A</td>\n",
       "      <td>4.0</td>\n",
       "      <td>3500.0</td>\n",
       "      <td>...</td>\n",
       "      <td>Y</td>\n",
       "      <td>S143</td>\n",
       "      <td>B</td>\n",
       "      <td>0.0</td>\n",
       "      <td>92000.0</td>\n",
       "      <td>5.0</td>\n",
       "      <td>NaN</td>\n",
       "      <td>NaN</td>\n",
       "      <td>7</td>\n",
       "      <td>0</td>\n",
       "    </tr>\n",
       "    <tr>\n",
       "      <th>4</th>\n",
       "      <td>APPG60994436641</td>\n",
       "      <td>Male</td>\n",
       "      <td>1985-04-19</td>\n",
       "      <td>2016-07-20</td>\n",
       "      <td>C10002</td>\n",
       "      <td>A</td>\n",
       "      <td>COM0001781</td>\n",
       "      <td>A</td>\n",
       "      <td>4.0</td>\n",
       "      <td>10000.0</td>\n",
       "      <td>...</td>\n",
       "      <td>Y</td>\n",
       "      <td>S134</td>\n",
       "      <td>B</td>\n",
       "      <td>2500.0</td>\n",
       "      <td>50000.0</td>\n",
       "      <td>2.0</td>\n",
       "      <td>NaN</td>\n",
       "      <td>NaN</td>\n",
       "      <td>10</td>\n",
       "      <td>0</td>\n",
       "    </tr>\n",
       "  </tbody>\n",
       "</table>\n",
       "<p>5 rows × 22 columns</p>\n",
       "</div>"
      ],
      "text/plain": [
       "                ID  Gender        DOB Lead_Creation_Date City_Code  \\\n",
       "0  APPC90493171225  Female 1979-07-23         2016-07-15    C10001   \n",
       "1  APPD40611263344    Male 1986-07-12         2016-04-07    C10003   \n",
       "2  APPE70289249423    Male 1982-10-12         2016-07-19    C10125   \n",
       "3  APPF80273865537    Male 1989-01-30         2016-09-07    C10477   \n",
       "4  APPG60994436641    Male 1985-04-19         2016-07-20    C10002   \n",
       "\n",
       "  City_Category Employer_Code Employer_Category1  Employer_Category2  \\\n",
       "0             A    COM0044082                  A                 4.0   \n",
       "1             A    COM0000002                  C                 1.0   \n",
       "2             C    COM0005267                  C                 4.0   \n",
       "3             C    COM0004143                  A                 4.0   \n",
       "4             A    COM0001781                  A                 4.0   \n",
       "\n",
       "   Monthly_Income  ... Contacted Source Source_Category Existing_EMI  \\\n",
       "0          2000.0  ...         N   S122               G          0.0   \n",
       "1          3500.0  ...         Y   S122               G          0.0   \n",
       "2          2250.0  ...         Y   S143               B          0.0   \n",
       "3          3500.0  ...         Y   S143               B          0.0   \n",
       "4         10000.0  ...         Y   S134               B       2500.0   \n",
       "\n",
       "  Loan_Amount  Loan_Period  Interest_Rate    EMI  Var1  Approved  \n",
       "0         NaN          NaN            NaN    NaN     0         0  \n",
       "1     20000.0          2.0          13.25  953.0    10         0  \n",
       "2     45000.0          4.0            NaN    NaN     0         0  \n",
       "3     92000.0          5.0            NaN    NaN     7         0  \n",
       "4     50000.0          2.0            NaN    NaN    10         0  \n",
       "\n",
       "[5 rows x 22 columns]"
      ]
     },
     "execution_count": 168,
     "metadata": {},
     "output_type": "execute_result"
    }
   ],
   "source": [
    "# Reading data from csv and converting as dataframe\n",
    "# Taking intial look at the data\n",
    "\n",
    "bank_df = pd.read_csv('train.csv', parse_dates=['DOB', 'Lead_Creation_Date'])\n",
    "bank_df.head()"
   ]
  },
  {
   "cell_type": "code",
   "execution_count": 169,
   "metadata": {},
   "outputs": [],
   "source": [
    "# Dropping ID feature because it doesn't contribute any value to our analysis\n",
    "\n",
    "bank_df.drop(['ID'], axis=1, inplace=True)"
   ]
  },
  {
   "cell_type": "code",
   "execution_count": 170,
   "metadata": {},
   "outputs": [
    {
     "name": "stdout",
     "output_type": "stream",
     "text": [
      "<class 'pandas.core.frame.DataFrame'>\n",
      "RangeIndex: 69713 entries, 0 to 69712\n",
      "Data columns (total 21 columns):\n",
      " #   Column                               Non-Null Count  Dtype         \n",
      "---  ------                               --------------  -----         \n",
      " 0   Gender                               69713 non-null  object        \n",
      " 1   DOB                                  69698 non-null  datetime64[ns]\n",
      " 2   Lead_Creation_Date                   69713 non-null  datetime64[ns]\n",
      " 3   City_Code                            68899 non-null  object        \n",
      " 4   City_Category                        68899 non-null  object        \n",
      " 5   Employer_Code                        65695 non-null  object        \n",
      " 6   Employer_Category1                   65695 non-null  object        \n",
      " 7   Employer_Category2                   65415 non-null  float64       \n",
      " 8   Monthly_Income                       69713 non-null  float64       \n",
      " 9   Customer_Existing_Primary_Bank_Code  60322 non-null  object        \n",
      " 10  Primary_Bank_Type                    60322 non-null  object        \n",
      " 11  Contacted                            69713 non-null  object        \n",
      " 12  Source                               69713 non-null  object        \n",
      " 13  Source_Category                      69713 non-null  object        \n",
      " 14  Existing_EMI                         69662 non-null  float64       \n",
      " 15  Loan_Amount                          42004 non-null  float64       \n",
      " 16  Loan_Period                          42004 non-null  float64       \n",
      " 17  Interest_Rate                        22276 non-null  float64       \n",
      " 18  EMI                                  22276 non-null  float64       \n",
      " 19  Var1                                 69713 non-null  int64         \n",
      " 20  Approved                             69713 non-null  int64         \n",
      "dtypes: datetime64[ns](2), float64(7), int64(2), object(10)\n",
      "memory usage: 11.2+ MB\n"
     ]
    }
   ],
   "source": [
    "# Getting the info about datatype of features and checking for any null values present in the feature \n",
    "\n",
    "bank_df.info()"
   ]
  },
  {
   "cell_type": "code",
   "execution_count": 171,
   "metadata": {},
   "outputs": [],
   "source": [
    "# converting Approved and Employer_Category2 feature to their appropriate datatypes\n",
    "\n",
    "bank_df['Approved'] = bank_df['Approved'].astype(object)\n",
    "bank_df['Employer_Category2'] = bank_df['Employer_Category2'].astype(object)"
   ]
  },
  {
   "cell_type": "code",
   "execution_count": 172,
   "metadata": {},
   "outputs": [],
   "source": [
    "mask = bank_df[(bank_df.DOB.dt.year >= 2016)].index\n",
    "bank_df.loc[mask,'DOB'] = np.NaN"
   ]
  },
  {
   "cell_type": "code",
   "execution_count": 173,
   "metadata": {},
   "outputs": [],
   "source": [
    "# Creating Age at the time of lead creation from the DOB\n",
    "\n",
    "bank_df['Age'] = round((bank_df.Lead_Creation_Date - bank_df.DOB) / np.timedelta64(1, 'Y'), 0)"
   ]
  },
  {
   "cell_type": "code",
   "execution_count": 174,
   "metadata": {},
   "outputs": [],
   "source": [
    "# Dropping DOB, as age is calculated from that\n",
    "\n",
    "bank_df.drop(['DOB'], axis=1, inplace=True)"
   ]
  },
  {
   "cell_type": "code",
   "execution_count": 175,
   "metadata": {},
   "outputs": [
    {
     "data": {
      "text/html": [
       "<div>\n",
       "<style scoped>\n",
       "    .dataframe tbody tr th:only-of-type {\n",
       "        vertical-align: middle;\n",
       "    }\n",
       "\n",
       "    .dataframe tbody tr th {\n",
       "        vertical-align: top;\n",
       "    }\n",
       "\n",
       "    .dataframe thead th {\n",
       "        text-align: right;\n",
       "    }\n",
       "</style>\n",
       "<table border=\"1\" class=\"dataframe\">\n",
       "  <thead>\n",
       "    <tr style=\"text-align: right;\">\n",
       "      <th></th>\n",
       "      <th>Monthly_Income</th>\n",
       "      <th>Existing_EMI</th>\n",
       "      <th>Loan_Amount</th>\n",
       "      <th>Loan_Period</th>\n",
       "      <th>Interest_Rate</th>\n",
       "      <th>EMI</th>\n",
       "      <th>Var1</th>\n",
       "      <th>Age</th>\n",
       "    </tr>\n",
       "  </thead>\n",
       "  <tbody>\n",
       "    <tr>\n",
       "      <th>count</th>\n",
       "      <td>6.971300e+04</td>\n",
       "      <td>69662.000000</td>\n",
       "      <td>42004.000000</td>\n",
       "      <td>42004.000000</td>\n",
       "      <td>22276.000000</td>\n",
       "      <td>22276.000000</td>\n",
       "      <td>69713.000000</td>\n",
       "      <td>66665.000000</td>\n",
       "    </tr>\n",
       "    <tr>\n",
       "      <th>mean</th>\n",
       "      <td>5.622283e+03</td>\n",
       "      <td>360.928751</td>\n",
       "      <td>39429.982859</td>\n",
       "      <td>3.890629</td>\n",
       "      <td>19.213570</td>\n",
       "      <td>1101.466242</td>\n",
       "      <td>3.948446</td>\n",
       "      <td>29.844251</td>\n",
       "    </tr>\n",
       "    <tr>\n",
       "      <th>std</th>\n",
       "      <td>1.747671e+05</td>\n",
       "      <td>2288.517927</td>\n",
       "      <td>30727.595990</td>\n",
       "      <td>1.167491</td>\n",
       "      <td>5.847136</td>\n",
       "      <td>752.661394</td>\n",
       "      <td>3.819214</td>\n",
       "      <td>5.472729</td>\n",
       "    </tr>\n",
       "    <tr>\n",
       "      <th>min</th>\n",
       "      <td>0.000000e+00</td>\n",
       "      <td>0.000000</td>\n",
       "      <td>5000.000000</td>\n",
       "      <td>1.000000</td>\n",
       "      <td>11.990000</td>\n",
       "      <td>118.000000</td>\n",
       "      <td>0.000000</td>\n",
       "      <td>17.000000</td>\n",
       "    </tr>\n",
       "    <tr>\n",
       "      <th>25%</th>\n",
       "      <td>1.650000e+03</td>\n",
       "      <td>0.000000</td>\n",
       "      <td>20000.000000</td>\n",
       "      <td>3.000000</td>\n",
       "      <td>15.250000</td>\n",
       "      <td>649.000000</td>\n",
       "      <td>0.000000</td>\n",
       "      <td>26.000000</td>\n",
       "    </tr>\n",
       "    <tr>\n",
       "      <th>50%</th>\n",
       "      <td>2.500000e+03</td>\n",
       "      <td>0.000000</td>\n",
       "      <td>30000.000000</td>\n",
       "      <td>4.000000</td>\n",
       "      <td>18.000000</td>\n",
       "      <td>941.000000</td>\n",
       "      <td>2.000000</td>\n",
       "      <td>29.000000</td>\n",
       "    </tr>\n",
       "    <tr>\n",
       "      <th>75%</th>\n",
       "      <td>4.000000e+03</td>\n",
       "      <td>350.000000</td>\n",
       "      <td>50000.000000</td>\n",
       "      <td>5.000000</td>\n",
       "      <td>20.000000</td>\n",
       "      <td>1295.000000</td>\n",
       "      <td>7.000000</td>\n",
       "      <td>33.000000</td>\n",
       "    </tr>\n",
       "    <tr>\n",
       "      <th>max</th>\n",
       "      <td>3.838384e+07</td>\n",
       "      <td>545436.500000</td>\n",
       "      <td>300000.000000</td>\n",
       "      <td>6.000000</td>\n",
       "      <td>37.000000</td>\n",
       "      <td>13556.000000</td>\n",
       "      <td>10.000000</td>\n",
       "      <td>47.000000</td>\n",
       "    </tr>\n",
       "  </tbody>\n",
       "</table>\n",
       "</div>"
      ],
      "text/plain": [
       "       Monthly_Income   Existing_EMI    Loan_Amount   Loan_Period  \\\n",
       "count    6.971300e+04   69662.000000   42004.000000  42004.000000   \n",
       "mean     5.622283e+03     360.928751   39429.982859      3.890629   \n",
       "std      1.747671e+05    2288.517927   30727.595990      1.167491   \n",
       "min      0.000000e+00       0.000000    5000.000000      1.000000   \n",
       "25%      1.650000e+03       0.000000   20000.000000      3.000000   \n",
       "50%      2.500000e+03       0.000000   30000.000000      4.000000   \n",
       "75%      4.000000e+03     350.000000   50000.000000      5.000000   \n",
       "max      3.838384e+07  545436.500000  300000.000000      6.000000   \n",
       "\n",
       "       Interest_Rate           EMI          Var1           Age  \n",
       "count   22276.000000  22276.000000  69713.000000  66665.000000  \n",
       "mean       19.213570   1101.466242      3.948446     29.844251  \n",
       "std         5.847136    752.661394      3.819214      5.472729  \n",
       "min        11.990000    118.000000      0.000000     17.000000  \n",
       "25%        15.250000    649.000000      0.000000     26.000000  \n",
       "50%        18.000000    941.000000      2.000000     29.000000  \n",
       "75%        20.000000   1295.000000      7.000000     33.000000  \n",
       "max        37.000000  13556.000000     10.000000     47.000000  "
      ]
     },
     "execution_count": 175,
     "metadata": {},
     "output_type": "execute_result"
    }
   ],
   "source": [
    "# Getting summary of numerical features to check for any abnormalities\n",
    "\n",
    "bank_df.describe()"
   ]
  },
  {
   "cell_type": "markdown",
   "metadata": {},
   "source": [
    "**Key Inferences**\n",
    "\n",
    "1. Observations with monthly income of 0 is available, which can be missing value or person with no montly income. \n",
    "2. Max monthly income need to be investigated.\n",
    "3. Max EMI need to be investigated."
   ]
  },
  {
   "cell_type": "code",
   "execution_count": 176,
   "metadata": {},
   "outputs": [
    {
     "data": {
      "text/html": [
       "<div>\n",
       "<style scoped>\n",
       "    .dataframe tbody tr th:only-of-type {\n",
       "        vertical-align: middle;\n",
       "    }\n",
       "\n",
       "    .dataframe tbody tr th {\n",
       "        vertical-align: top;\n",
       "    }\n",
       "\n",
       "    .dataframe thead th {\n",
       "        text-align: right;\n",
       "    }\n",
       "</style>\n",
       "<table border=\"1\" class=\"dataframe\">\n",
       "  <thead>\n",
       "    <tr style=\"text-align: right;\">\n",
       "      <th></th>\n",
       "      <th>Gender</th>\n",
       "      <th>City_Code</th>\n",
       "      <th>City_Category</th>\n",
       "      <th>Employer_Code</th>\n",
       "      <th>Employer_Category1</th>\n",
       "      <th>Employer_Category2</th>\n",
       "      <th>Customer_Existing_Primary_Bank_Code</th>\n",
       "      <th>Primary_Bank_Type</th>\n",
       "      <th>Contacted</th>\n",
       "      <th>Source</th>\n",
       "      <th>Source_Category</th>\n",
       "      <th>Approved</th>\n",
       "    </tr>\n",
       "  </thead>\n",
       "  <tbody>\n",
       "    <tr>\n",
       "      <th>count</th>\n",
       "      <td>69713</td>\n",
       "      <td>68899</td>\n",
       "      <td>68899</td>\n",
       "      <td>65695</td>\n",
       "      <td>65695</td>\n",
       "      <td>65415.0</td>\n",
       "      <td>60322</td>\n",
       "      <td>60322</td>\n",
       "      <td>69713</td>\n",
       "      <td>69713</td>\n",
       "      <td>69713</td>\n",
       "      <td>69713</td>\n",
       "    </tr>\n",
       "    <tr>\n",
       "      <th>unique</th>\n",
       "      <td>2</td>\n",
       "      <td>678</td>\n",
       "      <td>3</td>\n",
       "      <td>36617</td>\n",
       "      <td>3</td>\n",
       "      <td>4.0</td>\n",
       "      <td>57</td>\n",
       "      <td>2</td>\n",
       "      <td>2</td>\n",
       "      <td>29</td>\n",
       "      <td>7</td>\n",
       "      <td>2</td>\n",
       "    </tr>\n",
       "    <tr>\n",
       "      <th>top</th>\n",
       "      <td>Male</td>\n",
       "      <td>C10001</td>\n",
       "      <td>A</td>\n",
       "      <td>COM0000002</td>\n",
       "      <td>A</td>\n",
       "      <td>4.0</td>\n",
       "      <td>B001</td>\n",
       "      <td>P</td>\n",
       "      <td>Y</td>\n",
       "      <td>S122</td>\n",
       "      <td>B</td>\n",
       "      <td>0</td>\n",
       "    </tr>\n",
       "    <tr>\n",
       "      <th>freq</th>\n",
       "      <td>39949</td>\n",
       "      <td>10007</td>\n",
       "      <td>49885</td>\n",
       "      <td>457</td>\n",
       "      <td>33336</td>\n",
       "      <td>57582.0</td>\n",
       "      <td>14197</td>\n",
       "      <td>39619</td>\n",
       "      <td>45275</td>\n",
       "      <td>30941</td>\n",
       "      <td>29812</td>\n",
       "      <td>68693</td>\n",
       "    </tr>\n",
       "  </tbody>\n",
       "</table>\n",
       "</div>"
      ],
      "text/plain": [
       "       Gender City_Code City_Category Employer_Code Employer_Category1  \\\n",
       "count   69713     68899         68899         65695              65695   \n",
       "unique      2       678             3         36617                  3   \n",
       "top      Male    C10001             A    COM0000002                  A   \n",
       "freq    39949     10007         49885           457              33336   \n",
       "\n",
       "        Employer_Category2 Customer_Existing_Primary_Bank_Code  \\\n",
       "count              65415.0                               60322   \n",
       "unique                 4.0                                  57   \n",
       "top                    4.0                                B001   \n",
       "freq               57582.0                               14197   \n",
       "\n",
       "       Primary_Bank_Type Contacted Source Source_Category  Approved  \n",
       "count              60322     69713  69713           69713     69713  \n",
       "unique                 2         2     29               7         2  \n",
       "top                    P         Y   S122               B         0  \n",
       "freq               39619     45275  30941           29812     68693  "
      ]
     },
     "execution_count": 176,
     "metadata": {},
     "output_type": "execute_result"
    }
   ],
   "source": [
    "# Getting summary for categorical features\n",
    "\n",
    "bank_df.describe(include=object)"
   ]
  },
  {
   "cell_type": "markdown",
   "metadata": {},
   "source": [
    "**Inferences**\n",
    "1. City Code, Employer_code, Customer_Existing_Primary_Bank_Code, Source are having high cardinality.\n",
    "2. In Approved (Target Variable) frequency of '0' high indicating class labels are imbalanced."
   ]
  },
  {
   "cell_type": "code",
   "execution_count": 177,
   "metadata": {},
   "outputs": [
    {
     "data": {
      "text/plain": [
       "0    68693\n",
       "1     1020\n",
       "Name: Approved, dtype: int64"
      ]
     },
     "execution_count": 177,
     "metadata": {},
     "output_type": "execute_result"
    }
   ],
   "source": [
    "# Getting count of class labels in target variable\n",
    "\n",
    "bank_df.Approved.value_counts()"
   ]
  },
  {
   "cell_type": "code",
   "execution_count": 178,
   "metadata": {},
   "outputs": [],
   "source": [
    "# Transforming high cardinality columns using weight of evidence technique\n",
    "\n",
    "def reduce_cardinality(colName):\n",
    "    code_dict = {}\n",
    "    total_positives = bank_df.Approved.value_counts()[1]\n",
    "    total_negatives = bank_df.Approved.value_counts()[0]\n",
    "\n",
    "    for val in bank_df[colName].unique():\n",
    "        try:\n",
    "            positive_ratio = bank_df[bank_df.City_Code==val].Approved.value_counts()[1]/total_positives\n",
    "        except:\n",
    "            positive_ratio = 1e-15\n",
    "        \n",
    "        try:\n",
    "            negative_ratio = bank_df[bank_df.City_Code==val].Approved.value_counts()[0]/total_negatives\n",
    "        except:\n",
    "            negative_ratio = 1e-15\n",
    "        \n",
    "        code_dict[val] = np.log(positive_ratio/negative_ratio)\n",
    "    return code_dict"
   ]
  },
  {
   "cell_type": "code",
   "execution_count": 179,
   "metadata": {},
   "outputs": [],
   "source": [
    "City_Code_dict = reduce_cardinality(colName='City_Code')\n",
    "Employer_Code_dict = reduce_cardinality(colName='Employer_Code')\n",
    "Customer_Existing_Primary_Bank_Code_dict = reduce_cardinality(colName='Customer_Existing_Primary_Bank_Code')\n",
    "Source_dict = reduce_cardinality(colName='Source')"
   ]
  },
  {
   "cell_type": "code",
   "execution_count": 180,
   "metadata": {},
   "outputs": [],
   "source": [
    "bank_df.City_Code = bank_df.City_Code.apply(lambda x: round(City_Code_dict[x],2))\n",
    "bank_df.Employer_Code = bank_df.Employer_Code.apply(lambda x: round(Employer_Code_dict[x],2))\n",
    "bank_df.Customer_Existing_Primary_Bank_Code = bank_df.Customer_Existing_Primary_Bank_Code.apply(lambda x: \n",
    "                                                                                                round(Customer_Existing_Primary_Bank_Code_dict[x],2))\n",
    "bank_df.Source = bank_df.Source.apply(lambda x: round(Source_dict[x],2))"
   ]
  },
  {
   "cell_type": "code",
   "execution_count": 74,
   "metadata": {},
   "outputs": [],
   "source": [
    "'''def get_frequency_encoding(colName):\n",
    "    return bank_df[colName].value_counts().to_dict()'''"
   ]
  },
  {
   "cell_type": "code",
   "execution_count": 75,
   "metadata": {},
   "outputs": [],
   "source": [
    "'''City_Code_freq = get_frequency_encoding(colName='City_Code')\n",
    "Employer_Code_freq = get_frequency_encoding(colName='Employer_Code')\n",
    "Customer_Existing_Primary_Bank_Code_freq = get_frequency_encoding(colName='Customer_Existing_Primary_Bank_Code')\n",
    "Source_freq = get_frequency_encoding(colName='Source')'''"
   ]
  },
  {
   "cell_type": "code",
   "execution_count": 77,
   "metadata": {},
   "outputs": [],
   "source": [
    "'''bank_df.City_Code = bank_df.City_Code.apply(lambda x: np.nan if type(x) == float else City_Code_freq[x])\n",
    "bank_df.Employer_Code = bank_df.Employer_Code.apply(lambda x: np.nan if type(x) == float else Employer_Code_freq[x])\n",
    "bank_df.Customer_Existing_Primary_Bank_Code = bank_df.Customer_Existing_Primary_Bank_Code.apply(lambda x: np.nan if type(x) == float \n",
    "                                                                                                else Customer_Existing_Primary_Bank_Code_freq[x])\n",
    "bank_df.Source = bank_df.Source.apply(lambda x: np.nan if type(x) == float else Source_freq[x])'''"
   ]
  },
  {
   "cell_type": "code",
   "execution_count": 181,
   "metadata": {},
   "outputs": [
    {
     "data": {
      "text/plain": [
       "<matplotlib.axes._subplots.AxesSubplot at 0x1afc77aa388>"
      ]
     },
     "execution_count": 181,
     "metadata": {},
     "output_type": "execute_result"
    },
    {
     "data": {
      "image/png": "[encoded data removed]",
      "text/plain": [
       "<Figure size 1080x360 with 2 Axes>"
      ]
     },
     "metadata": {
      "needs_background": "light"
     },
     "output_type": "display_data"
    }
   ],
   "source": [
    "fig, ax = plt.subplots(1,2,figsize=(15,5))\n",
    "sns.countplot(bank_df.Gender, ax=ax[0])\n",
    "approved_df = bank_df[bank_df.Approved==1]\n",
    "male_conv_perc = (approved_df[approved_df.Gender=='Male'].shape[0] / bank_df[bank_df.Gender=='Male'].shape[0])*100\n",
    "female_conv_perc = (approved_df[approved_df.Gender=='Female'].shape[0] / bank_df[bank_df.Gender=='Female'].shape[0])*100\n",
    "gender_conv_df = pd.DataFrame({'Gender':['Male', 'Female'], 'perc_conversion':[male_conv_perc, female_conv_perc]})\n",
    "sns.barplot(gender_conv_df.Gender, gender_conv_df.perc_conversion, ax=ax[1])"
   ]
  },
  {
   "cell_type": "code",
   "execution_count": 182,
   "metadata": {},
   "outputs": [
    {
     "data": {
      "text/plain": [
       "<matplotlib.axes._subplots.AxesSubplot at 0x1afc77e6e88>"
      ]
     },
     "execution_count": 182,
     "metadata": {},
     "output_type": "execute_result"
    },
    {
     "data": {
      "image/png": "[encoded data removed]",
      "text/plain": [
       "<Figure size 1080x360 with 2 Axes>"
      ]
     },
     "metadata": {
      "needs_background": "light"
     },
     "output_type": "display_data"
    }
   ],
   "source": [
    "fig, ax = plt.subplots(1,2,figsize=(15,5))\n",
    "sns.distplot(bank_df.Age, bins=10, hist_kws={'edgecolor':'black'}, ax=ax[0])\n",
    "sns.boxplot(bank_df.Age)"
   ]
  },
  {
   "cell_type": "code",
   "execution_count": 183,
   "metadata": {},
   "outputs": [],
   "source": [
    "def get_outlier_index(colName, normalize=False):\n",
    "    if normalize:\n",
    "        df = pd.DataFrame(StandardScaler().fit_transform(np.array(np.log(bank_df[colName])).reshape(-1,1)), \n",
    "                          index=bank_df.index)\n",
    "    else:\n",
    "        df = pd.DataFrame(StandardScaler().fit_transform(np.array(bank_df.Age).reshape(-1,1)), index=bank_df.index)\n",
    "    df.rename(columns={0:colName}, inplace=True)\n",
    "    outliers_index = []\n",
    "    for index, val in df.iterrows():\n",
    "        if np.isnan(val[colName]): continue\n",
    "        elif (val[colName] < -3) or (val[colName] > 3):\n",
    "            outliers_index.append(index)\n",
    "    return outliers_index"
   ]
  },
  {
   "cell_type": "code",
   "execution_count": 184,
   "metadata": {},
   "outputs": [],
   "source": [
    "age_outliers = get_outlier_index(colName='Age')"
   ]
  },
  {
   "cell_type": "code",
   "execution_count": 185,
   "metadata": {},
   "outputs": [],
   "source": [
    "bank_df = bank_df[~(bank_df.index.isin(age_outliers))]"
   ]
  },
  {
   "cell_type": "code",
   "execution_count": 186,
   "metadata": {},
   "outputs": [
    {
     "data": {
      "text/plain": [
       "<matplotlib.axes._subplots.AxesSubplot at 0x1afc79cb888>"
      ]
     },
     "execution_count": 186,
     "metadata": {},
     "output_type": "execute_result"
    },
    {
     "data": {
      "image/png": "[encoded data removed]",
      "text/plain": [
       "<Figure size 1080x360 with 2 Axes>"
      ]
     },
     "metadata": {
      "needs_background": "light"
     },
     "output_type": "display_data"
    }
   ],
   "source": [
    "fig, ax = plt.subplots(1,2,figsize=(15,5))\n",
    "sns.countplot(y=bank_df.Lead_Creation_Date.dt.strftime('%b'), \n",
    "              order=bank_df.Lead_Creation_Date.dt.strftime('%b').value_counts().index, ax=ax[0])\n",
    "month_df = pd.DataFrame(bank_df.Lead_Creation_Date.dt.strftime('%b').value_counts())\n",
    "month_app_df = pd.DataFrame(bank_df[bank_df.Approved==1].Lead_Creation_Date.dt.strftime('%b').value_counts())\n",
    "month_conv_df = pd.merge(month_df, month_app_df, left_index=True, right_index=True)\n",
    "month_conv_df['perc_conversion'] = round((month_conv_df.Lead_Creation_Date_y / month_conv_df.Lead_Creation_Date_x)*100,2)\n",
    "month_conv_df = month_conv_df.sort_values('perc_conversion', ascending=False)\n",
    "sns.barplot(y=month_conv_df.index, x=month_conv_df.perc_conversion, ax=ax[1])"
   ]
  },
  {
   "cell_type": "code",
   "execution_count": 187,
   "metadata": {},
   "outputs": [],
   "source": [
    "def get_perc_conv_for_cat_features(col):\n",
    "    fig, ax = plt.subplots(1,2,figsize=(15,5))\n",
    "    sns.countplot(bank_df[col], ax=ax[0])\n",
    "    actual_df = pd.DataFrame(bank_df[col].value_counts())\n",
    "    approved_df = pd.DataFrame(bank_df[bank_df.Approved==1][col].value_counts())\n",
    "    conv_df = pd.merge(actual_df, approved_df, left_index=True, right_index=True)\n",
    "    conv_df['perc_conversion'] = round((conv_df[col+'_y'] / conv_df[col+'_x'])*100,2)\n",
    "    conv_df = conv_df.sort_values('perc_conversion', ascending=False)\n",
    "    sns.barplot(x=conv_df.index, y=conv_df.perc_conversion, ax=ax[1])"
   ]
  },
  {
   "cell_type": "code",
   "execution_count": 188,
   "metadata": {},
   "outputs": [
    {
     "data": {
      "image/png": "[encoded data removed]",
      "text/plain": [
       "<Figure size 1080x360 with 2 Axes>"
      ]
     },
     "metadata": {
      "needs_background": "light"
     },
     "output_type": "display_data"
    }
   ],
   "source": [
    "get_perc_conv_for_cat_features('City_Category')"
   ]
  },
  {
   "cell_type": "code",
   "execution_count": 189,
   "metadata": {},
   "outputs": [
    {
     "data": {
      "image/png": "[encoded data removed]",
      "text/plain": [
       "<Figure size 1080x360 with 2 Axes>"
      ]
     },
     "metadata": {
      "needs_background": "light"
     },
     "output_type": "display_data"
    }
   ],
   "source": [
    "get_perc_conv_for_cat_features('Employer_Category1')"
   ]
  },
  {
   "cell_type": "code",
   "execution_count": 190,
   "metadata": {},
   "outputs": [
    {
     "data": {
      "image/png": "[encoded data removed]",
      "text/plain": [
       "<Figure size 1080x360 with 2 Axes>"
      ]
     },
     "metadata": {
      "needs_background": "light"
     },
     "output_type": "display_data"
    }
   ],
   "source": [
    "get_perc_conv_for_cat_features('Employer_Category2')"
   ]
  },
  {
   "cell_type": "code",
   "execution_count": 191,
   "metadata": {},
   "outputs": [],
   "source": [
    "bank_df = bank_df[~(bank_df.Monthly_Income==0)]"
   ]
  },
  {
   "cell_type": "code",
   "execution_count": 192,
   "metadata": {},
   "outputs": [
    {
     "data": {
      "image/png": "[encoded data removed]",
      "text/plain": [
       "<Figure size 720x360 with 1 Axes>"
      ]
     },
     "metadata": {
      "needs_background": "light"
     },
     "output_type": "display_data"
    }
   ],
   "source": [
    "fig, ax = plt.subplots(1,1, figsize=(10,5))\n",
    "sns.distplot(bank_df.Monthly_Income, bins=10, hist_kws={'edgecolor':'black'})\n",
    "plt.ticklabel_format(style='plain', axis='x')"
   ]
  },
  {
   "cell_type": "code",
   "execution_count": 193,
   "metadata": {},
   "outputs": [],
   "source": [
    "income_outliers = get_outlier_index(colName='Monthly_Income', normalize=True)"
   ]
  },
  {
   "cell_type": "code",
   "execution_count": 194,
   "metadata": {},
   "outputs": [],
   "source": [
    "bank_df = bank_df[~(bank_df.index.isin(income_outliers))]"
   ]
  },
  {
   "cell_type": "code",
   "execution_count": 195,
   "metadata": {},
   "outputs": [
    {
     "data": {
      "text/plain": [
       "<matplotlib.axes._subplots.AxesSubplot at 0x1afd11ebb48>"
      ]
     },
     "execution_count": 195,
     "metadata": {},
     "output_type": "execute_result"
    },
    {
     "data": {
      "image/png": "[encoded data removed]",
      "text/plain": [
       "<Figure size 1080x360 with 2 Axes>"
      ]
     },
     "metadata": {
      "needs_background": "light"
     },
     "output_type": "display_data"
    }
   ],
   "source": [
    "fig, ax = plt.subplots(1,2, figsize=(15,5))\n",
    "sns.distplot(bank_df.Monthly_Income, bins=20, hist_kws={'edgecolor':'black'}, ax=ax[0])\n",
    "sns.boxplot(bank_df.Monthly_Income, ax=ax[1])"
   ]
  },
  {
   "cell_type": "code",
   "execution_count": 196,
   "metadata": {},
   "outputs": [
    {
     "data": {
      "image/png": "[encoded data removed]",
      "text/plain": [
       "<Figure size 1080x360 with 2 Axes>"
      ]
     },
     "metadata": {
      "needs_background": "light"
     },
     "output_type": "display_data"
    }
   ],
   "source": [
    "get_perc_conv_for_cat_features('Primary_Bank_Type')"
   ]
  },
  {
   "cell_type": "code",
   "execution_count": 197,
   "metadata": {},
   "outputs": [
    {
     "data": {
      "image/png": "[encoded data removed]",
      "text/plain": [
       "<Figure size 1080x360 with 2 Axes>"
      ]
     },
     "metadata": {
      "needs_background": "light"
     },
     "output_type": "display_data"
    }
   ],
   "source": [
    "get_perc_conv_for_cat_features('Contacted')"
   ]
  },
  {
   "cell_type": "code",
   "execution_count": 198,
   "metadata": {},
   "outputs": [
    {
     "data": {
      "image/png": "[encoded data removed]",
      "text/plain": [
       "<Figure size 1080x360 with 2 Axes>"
      ]
     },
     "metadata": {
      "needs_background": "light"
     },
     "output_type": "display_data"
    }
   ],
   "source": [
    "get_perc_conv_for_cat_features('Source_Category')"
   ]
  },
  {
   "cell_type": "code",
   "execution_count": 199,
   "metadata": {},
   "outputs": [
    {
     "data": {
      "image/png": "[encoded data removed]",
      "text/plain": [
       "<Figure size 1080x360 with 2 Axes>"
      ]
     },
     "metadata": {
      "needs_background": "light"
     },
     "output_type": "display_data"
    }
   ],
   "source": [
    "get_perc_conv_for_cat_features('Loan_Period')"
   ]
  },
  {
   "cell_type": "code",
   "execution_count": 200,
   "metadata": {},
   "outputs": [
    {
     "data": {
      "text/plain": [
       "<matplotlib.axes._subplots.AxesSubplot at 0x1afd514f948>"
      ]
     },
     "execution_count": 200,
     "metadata": {},
     "output_type": "execute_result"
    },
    {
     "data": {
      "image/png": "[encoded data removed]",
      "text/plain": [
       "<Figure size 432x288 with 1 Axes>"
      ]
     },
     "metadata": {
      "needs_background": "light"
     },
     "output_type": "display_data"
    }
   ],
   "source": [
    "sns.boxplot(bank_df.Loan_Period)"
   ]
  },
  {
   "cell_type": "code",
   "execution_count": 201,
   "metadata": {},
   "outputs": [
    {
     "data": {
      "text/plain": [
       "<matplotlib.axes._subplots.AxesSubplot at 0x1afd543cb08>"
      ]
     },
     "execution_count": 201,
     "metadata": {},
     "output_type": "execute_result"
    },
    {
     "data": {
      "image/png": "[encoded data removed]",
      "text/plain": [
       "<Figure size 1080x360 with 2 Axes>"
      ]
     },
     "metadata": {
      "needs_background": "light"
     },
     "output_type": "display_data"
    }
   ],
   "source": [
    "fig, ax = plt.subplots(1,2,figsize=(15,5))\n",
    "sns.violinplot(bank_df.Employer_Category1, bank_df.Monthly_Income, ax=ax[0])\n",
    "sns.violinplot(bank_df.Employer_Category2, bank_df.Monthly_Income, ax=ax[1])"
   ]
  },
  {
   "cell_type": "code",
   "execution_count": 202,
   "metadata": {},
   "outputs": [
    {
     "data": {
      "text/plain": [
       "<matplotlib.axes._subplots.AxesSubplot at 0x1afd5541888>"
      ]
     },
     "execution_count": 202,
     "metadata": {},
     "output_type": "execute_result"
    },
    {
     "data": {
      "image/png": "[encoded data removed]",
      "text/plain": [
       "<Figure size 1080x360 with 2 Axes>"
      ]
     },
     "metadata": {
      "needs_background": "light"
     },
     "output_type": "display_data"
    }
   ],
   "source": [
    "fig, ax = plt.subplots(1,2, figsize=(15,5))\n",
    "sns.distplot(bank_df.Loan_Amount, bins=20, hist_kws={'edgecolor':'black'}, ax=ax[0])\n",
    "sns.boxplot(bank_df.Loan_Amount, ax=ax[1])"
   ]
  },
  {
   "cell_type": "code",
   "execution_count": 203,
   "metadata": {},
   "outputs": [],
   "source": [
    "loan_amt_outliers = get_outlier_index(colName='Loan_Amount', normalize=True)"
   ]
  },
  {
   "cell_type": "code",
   "execution_count": 204,
   "metadata": {},
   "outputs": [],
   "source": [
    "bank_df = bank_df[~(bank_df.index.isin(loan_amt_outliers))]"
   ]
  },
  {
   "cell_type": "code",
   "execution_count": 205,
   "metadata": {},
   "outputs": [
    {
     "data": {
      "text/plain": [
       "<matplotlib.axes._subplots.AxesSubplot at 0x1afd585fec8>"
      ]
     },
     "execution_count": 205,
     "metadata": {},
     "output_type": "execute_result"
    },
    {
     "data": {
      "image/png": "[encoded data removed]",
      "text/plain": [
       "<Figure size 432x288 with 1 Axes>"
      ]
     },
     "metadata": {
      "needs_background": "light"
     },
     "output_type": "display_data"
    }
   ],
   "source": [
    "sns.scatterplot(bank_df.Loan_Amount, bank_df.Interest_Rate, hue=bank_df.Approved)"
   ]
  },
  {
   "cell_type": "code",
   "execution_count": 206,
   "metadata": {},
   "outputs": [
    {
     "data": {
      "text/plain": [
       "<matplotlib.axes._subplots.AxesSubplot at 0x1afd0dc9588>"
      ]
     },
     "execution_count": 206,
     "metadata": {},
     "output_type": "execute_result"
    },
    {
     "data": {
      "image/png": "[encoded data removed]",
      "text/plain": [
       "<Figure size 1080x360 with 2 Axes>"
      ]
     },
     "metadata": {
      "needs_background": "light"
     },
     "output_type": "display_data"
    }
   ],
   "source": [
    "fig, ax = plt.subplots(1,2, figsize=(15,5))\n",
    "sns.distplot(bank_df.Interest_Rate, bins=20, hist_kws={'edgecolor':'black'}, ax=ax[0])\n",
    "sns.boxplot(bank_df.Interest_Rate, ax=ax[1])"
   ]
  },
  {
   "cell_type": "code",
   "execution_count": 207,
   "metadata": {},
   "outputs": [],
   "source": [
    "interest_rate_outliers = get_outlier_index(colName='Interest_Rate', normalize=True)"
   ]
  },
  {
   "cell_type": "code",
   "execution_count": 208,
   "metadata": {},
   "outputs": [],
   "source": [
    "bank_df.Monthly_Income = bank_df.Monthly_Income - bank_df.Existing_EMI"
   ]
  },
  {
   "cell_type": "code",
   "execution_count": 209,
   "metadata": {},
   "outputs": [],
   "source": [
    "bank_df.drop(['Existing_EMI'], axis=1, inplace=True)"
   ]
  },
  {
   "cell_type": "code",
   "execution_count": 210,
   "metadata": {},
   "outputs": [],
   "source": [
    "bank_df = bank_df[~(bank_df.EMI>=bank_df.Monthly_Income)]"
   ]
  },
  {
   "cell_type": "code",
   "execution_count": 211,
   "metadata": {},
   "outputs": [],
   "source": [
    "def missing_val_perc(df):\n",
    "    for col in df.columns:\n",
    "        print(\"Percentage of missing values in \" + col + \": \" + str(round(bank_df[col].isna().sum()/bank_df.shape[0],2)))"
   ]
  },
  {
   "cell_type": "code",
   "execution_count": 212,
   "metadata": {},
   "outputs": [
    {
     "name": "stdout",
     "output_type": "stream",
     "text": [
      "Percentage of missing values in Gender: 0.0\n",
      "Percentage of missing values in Lead_Creation_Date: 0.0\n",
      "Percentage of missing values in City_Code: 0.0\n",
      "Percentage of missing values in City_Category: 0.01\n",
      "Percentage of missing values in Employer_Code: 0.0\n",
      "Percentage of missing values in Employer_Category1: 0.05\n",
      "Percentage of missing values in Employer_Category2: 0.06\n",
      "Percentage of missing values in Monthly_Income: 0.0\n",
      "Percentage of missing values in Customer_Existing_Primary_Bank_Code: 0.0\n",
      "Percentage of missing values in Primary_Bank_Type: 0.13\n",
      "Percentage of missing values in Contacted: 0.0\n",
      "Percentage of missing values in Source: 0.0\n",
      "Percentage of missing values in Source_Category: 0.0\n",
      "Percentage of missing values in Loan_Amount: 0.39\n",
      "Percentage of missing values in Loan_Period: 0.39\n",
      "Percentage of missing values in Interest_Rate: 0.68\n",
      "Percentage of missing values in EMI: 0.68\n",
      "Percentage of missing values in Var1: 0.0\n",
      "Percentage of missing values in Approved: 0.0\n",
      "Percentage of missing values in Age: 0.04\n"
     ]
    }
   ],
   "source": [
    "missing_val_perc(df=bank_df)"
   ]
  },
  {
   "cell_type": "code",
   "execution_count": 213,
   "metadata": {},
   "outputs": [],
   "source": [
    "index_nums = [index for index, val in enumerate(bank_df.isna().sum(axis=1)) if val>7]\n",
    "bank_df.drop(bank_df.index[index_nums], inplace=True)"
   ]
  },
  {
   "cell_type": "code",
   "execution_count": 214,
   "metadata": {},
   "outputs": [],
   "source": [
    "for col in ['City_Category', 'Employer_Category1', 'Employer_Category2', 'Primary_Bank_Type']:\n",
    "    bank_df[col].fillna(bank_df[col].mode()[0], inplace=True)"
   ]
  },
  {
   "cell_type": "code",
   "execution_count": 215,
   "metadata": {},
   "outputs": [
    {
     "data": {
      "text/plain": [
       "<matplotlib.axes._subplots.AxesSubplot at 0x1afc17b2d48>"
      ]
     },
     "execution_count": 215,
     "metadata": {},
     "output_type": "execute_result"
    },
    {
     "data": {
      "image/png": "[encoded data removed]",
      "text/plain": [
       "<Figure size 1800x720 with 2 Axes>"
      ]
     },
     "metadata": {
      "needs_background": "light"
     },
     "output_type": "display_data"
    }
   ],
   "source": [
    "msno.matrix(bank_df, sort='descending')"
   ]
  },
  {
   "cell_type": "code",
   "execution_count": 216,
   "metadata": {},
   "outputs": [],
   "source": [
    "mask = bank_df[(~((bank_df.Loan_Amount.isna())&(bank_df.Loan_Period.isna())))&(bank_df.Interest_Rate.isna())].index\n",
    "bank_df.loc[mask, 'Interest_Rate'] = bank_df.Interest_Rate.median()"
   ]
  },
  {
   "cell_type": "code",
   "execution_count": 217,
   "metadata": {},
   "outputs": [],
   "source": [
    "def emi_calculator(principal, interest, period): \n",
    "    interest = interest / (12*100) \n",
    "    period = period * 12\n",
    "    EMI = (principal * interest * pow(1+interest, period)) / (pow(1+interest, period)-1) \n",
    "    return round(EMI,0)"
   ]
  },
  {
   "cell_type": "code",
   "execution_count": 218,
   "metadata": {},
   "outputs": [],
   "source": [
    "mask = bank_df[(~((bank_df.Loan_Amount.isna())&(bank_df.Loan_Period.isna())&(bank_df.Interest_Rate.isna())))\n",
    "               &(bank_df.EMI.isna())].index\n",
    "bank_df.loc[mask, 'EMI'] = emi_calculator(bank_df.Loan_Amount, bank_df.Interest_Rate, bank_df.Loan_Period)"
   ]
  },
  {
   "cell_type": "code",
   "execution_count": 219,
   "metadata": {},
   "outputs": [],
   "source": [
    "bank_df = bank_df[~((bank_df.Monthly_Income.isna())|(bank_df.Monthly_Income==0))]"
   ]
  },
  {
   "cell_type": "code",
   "execution_count": 220,
   "metadata": {},
   "outputs": [],
   "source": [
    "bank_df[['Employer_Category1','City_Category','Source_Category']] = bank_df[['Employer_Category1','City_Category',\n",
    "                                                                             'Source_Category']].apply(LabelEncoder().fit_transform)"
   ]
  },
  {
   "cell_type": "code",
   "execution_count": 221,
   "metadata": {},
   "outputs": [],
   "source": [
    "bank_df.Gender = bank_df.Gender.map({'Male':0,'Female':1})"
   ]
  },
  {
   "cell_type": "code",
   "execution_count": 222,
   "metadata": {},
   "outputs": [],
   "source": [
    "bank_df.Primary_Bank_Type = bank_df.Primary_Bank_Type.map({'P':0,'G':1})\n",
    "bank_df.Contacted = bank_df.Contacted.map({'N':0, 'Y':1})"
   ]
  },
  {
   "cell_type": "code",
   "execution_count": 223,
   "metadata": {},
   "outputs": [],
   "source": [
    "bank_df['Lead_Creation_Day'] = bank_df.Lead_Creation_Date.dt.day\n",
    "bank_df['Lead_Creation_Month'] = bank_df.Lead_Creation_Date.dt.month\n",
    "bank_df['Lead_Creation_Day_of_Week'] = bank_df.Lead_Creation_Date.dt.dayofweek\n",
    "bank_df.drop(['Lead_Creation_Date'], axis=1, inplace=True)"
   ]
  },
  {
   "cell_type": "code",
   "execution_count": 228,
   "metadata": {},
   "outputs": [],
   "source": [
    "EMI_backup = bank_df.EMI"
   ]
  },
  {
   "cell_type": "code",
   "execution_count": 229,
   "metadata": {},
   "outputs": [],
   "source": [
    "bank_df_impute = bank_df.drop(['EMI'], axis=1)\n",
    "impute_cols = bank_df_impute.columns"
   ]
  },
  {
   "cell_type": "code",
   "execution_count": 230,
   "metadata": {},
   "outputs": [],
   "source": [
    "iterative_imputer = IterativeImputer(imputation_order='arabic', initial_strategy='median', max_iter=21)\n",
    "bank_df_impute = iterative_imputer.fit_transform(bank_df_impute)"
   ]
  },
  {
   "cell_type": "code",
   "execution_count": 231,
   "metadata": {},
   "outputs": [],
   "source": [
    "bank_df_impute = pd.DataFrame(bank_df_impute, columns=impute_cols)"
   ]
  },
  {
   "cell_type": "code",
   "execution_count": 232,
   "metadata": {},
   "outputs": [],
   "source": [
    "bank_df_impute = bank_df_impute.join(EMI_backup)"
   ]
  },
  {
   "cell_type": "code",
   "execution_count": 233,
   "metadata": {},
   "outputs": [],
   "source": [
    "bank_df_impute.Interest_Rate = bank_df_impute.Interest_Rate.apply(lambda x: round(x,0))"
   ]
  },
  {
   "cell_type": "code",
   "execution_count": 234,
   "metadata": {},
   "outputs": [],
   "source": [
    "mask = bank_df_impute[bank_df_impute.EMI.isna()].index\n",
    "bank_df_impute.loc[mask, 'EMI'] = emi_calculator(bank_df_impute.Loan_Amount, bank_df_impute.Interest_Rate, \n",
    "                                                 bank_df_impute.Loan_Period)"
   ]
  },
  {
   "cell_type": "code",
   "execution_count": 235,
   "metadata": {},
   "outputs": [],
   "source": [
    "bank_df_impute = bank_df_impute[~(bank_df_impute.EMI>=bank_df_impute.Monthly_Income)]"
   ]
  },
  {
   "cell_type": "code",
   "execution_count": 236,
   "metadata": {},
   "outputs": [],
   "source": [
    "def kappa_score(y_act, y_pred):\n",
    "    return cohen_kappa_score(y_act, y_pred)\n",
    "\n",
    "kappa = make_scorer(kappa_score)"
   ]
  },
  {
   "cell_type": "markdown",
   "metadata": {},
   "source": [
    "# Naive Bayes Classifier"
   ]
  },
  {
   "cell_type": "code",
   "execution_count": 237,
   "metadata": {},
   "outputs": [],
   "source": [
    "cat_cols = ['Gender', 'City_Category', 'Primary_Bank_Type', 'Contacted', 'Source_Category', 'Var1', 'Employer_Category1',\n",
    "            'Employer_Category2']"
   ]
  },
  {
   "cell_type": "code",
   "execution_count": 238,
   "metadata": {},
   "outputs": [],
   "source": [
    "num_cols = ['Monthly_Income','Loan_Amount','City_Code','Loan_Period','Interest_Rate','Age','Lead_Creation_Day','Source',\n",
    "            'Lead_Creation_Month', 'Lead_Creation_Day_of_Week','EMI','Customer_Existing_Primary_Bank_Code','Employer_Code']"
   ]
  },
  {
   "cell_type": "code",
   "execution_count": 239,
   "metadata": {},
   "outputs": [],
   "source": [
    "kfold = StratifiedKFold(n_splits=5, shuffle=True, random_state=204)"
   ]
  },
  {
   "cell_type": "code",
   "execution_count": 240,
   "metadata": {},
   "outputs": [],
   "source": [
    "navie_df = bank_df_impute.copy(deep=True)"
   ]
  },
  {
   "cell_type": "code",
   "execution_count": 241,
   "metadata": {},
   "outputs": [],
   "source": [
    "for col in cat_cols:\n",
    "    navie_df[col] = navie_df[col].astype('category')"
   ]
  },
  {
   "cell_type": "code",
   "execution_count": 242,
   "metadata": {},
   "outputs": [],
   "source": [
    "y_naive = navie_df['Approved']\n",
    "X_naive = navie_df.drop(['Approved'], axis=1)"
   ]
  },
  {
   "cell_type": "code",
   "execution_count": 243,
   "metadata": {},
   "outputs": [],
   "source": [
    "X_train_naive, X_test_naive, y_train_naive, y_test_naive = train_test_split(X_naive, y_naive, test_size=0.3)"
   ]
  },
  {
   "cell_type": "code",
   "execution_count": 244,
   "metadata": {},
   "outputs": [],
   "source": [
    "naive_model = GaussianNB()"
   ]
  },
  {
   "cell_type": "code",
   "execution_count": 245,
   "metadata": {},
   "outputs": [
    {
     "data": {
      "text/plain": [
       "0.7674108612679327"
      ]
     },
     "execution_count": 245,
     "metadata": {},
     "output_type": "execute_result"
    }
   ],
   "source": [
    "np.mean(cross_val_score(naive_model, X_train_naive, y_train_naive, scoring='roc_auc', cv=kfold, n_jobs=-1))"
   ]
  },
  {
   "cell_type": "code",
   "execution_count": 246,
   "metadata": {},
   "outputs": [
    {
     "data": {
      "text/plain": [
       "GaussianNB()"
      ]
     },
     "execution_count": 246,
     "metadata": {},
     "output_type": "execute_result"
    }
   ],
   "source": [
    "naive_model.fit(X_train_naive, y_train_naive)"
   ]
  },
  {
   "cell_type": "code",
   "execution_count": 247,
   "metadata": {},
   "outputs": [],
   "source": [
    "naive_predictions = naive_model.predict(X_test_naive)"
   ]
  },
  {
   "cell_type": "code",
   "execution_count": 248,
   "metadata": {},
   "outputs": [
    {
     "data": {
      "text/plain": [
       "<sklearn.metrics._plot.confusion_matrix.ConfusionMatrixDisplay at 0x1afd4fa47c8>"
      ]
     },
     "execution_count": 248,
     "metadata": {},
     "output_type": "execute_result"
    },
    {
     "data": {
      "image/png": "[encoded data removed]",
      "text/plain": [
       "<Figure size 432x288 with 2 Axes>"
      ]
     },
     "metadata": {
      "needs_background": "light"
     },
     "output_type": "display_data"
    }
   ],
   "source": [
    "plot_confusion_matrix(naive_model, X_test_naive, y_test_naive, cmap=plt.cm.Blues)"
   ]
  },
  {
   "cell_type": "code",
   "execution_count": 249,
   "metadata": {},
   "outputs": [
    {
     "name": "stdout",
     "output_type": "stream",
     "text": [
      "              precision    recall  f1-score   support\n",
      "\n",
      "         0.0       0.99      0.88      0.93     17847\n",
      "         1.0       0.05      0.34      0.09       312\n",
      "\n",
      "    accuracy                           0.87     18159\n",
      "   macro avg       0.52      0.61      0.51     18159\n",
      "weighted avg       0.97      0.87      0.92     18159\n",
      "\n"
     ]
    }
   ],
   "source": [
    "print(classification_report(y_test_naive, naive_predictions))"
   ]
  },
  {
   "cell_type": "markdown",
   "metadata": {},
   "source": [
    "# Logistic Regression"
   ]
  },
  {
   "cell_type": "code",
   "execution_count": 250,
   "metadata": {},
   "outputs": [],
   "source": [
    "logit_df = bank_df_impute.copy(deep=True)"
   ]
  },
  {
   "cell_type": "code",
   "execution_count": 251,
   "metadata": {},
   "outputs": [
    {
     "name": "stdout",
     "output_type": "stream",
     "text": [
      "<class 'pandas.core.frame.DataFrame'>\n",
      "Int64Index: 60530 entries, 0 to 67754\n",
      "Data columns (total 22 columns):\n",
      " #   Column                               Non-Null Count  Dtype  \n",
      "---  ------                               --------------  -----  \n",
      " 0   Gender                               60530 non-null  float64\n",
      " 1   City_Code                            60530 non-null  float64\n",
      " 2   City_Category                        60530 non-null  float64\n",
      " 3   Employer_Code                        60530 non-null  float64\n",
      " 4   Employer_Category1                   60530 non-null  float64\n",
      " 5   Employer_Category2                   60530 non-null  float64\n",
      " 6   Monthly_Income                       60530 non-null  float64\n",
      " 7   Customer_Existing_Primary_Bank_Code  60530 non-null  float64\n",
      " 8   Primary_Bank_Type                    60530 non-null  float64\n",
      " 9   Contacted                            60530 non-null  float64\n",
      " 10  Source                               60530 non-null  float64\n",
      " 11  Source_Category                      60530 non-null  float64\n",
      " 12  Loan_Amount                          60530 non-null  float64\n",
      " 13  Loan_Period                          60530 non-null  float64\n",
      " 14  Interest_Rate                        60530 non-null  float64\n",
      " 15  Var1                                 60530 non-null  float64\n",
      " 16  Approved                             60530 non-null  float64\n",
      " 17  Age                                  60530 non-null  float64\n",
      " 18  Lead_Creation_Day                    60530 non-null  float64\n",
      " 19  Lead_Creation_Month                  60530 non-null  float64\n",
      " 20  Lead_Creation_Day_of_Week            60530 non-null  float64\n",
      " 21  EMI                                  60530 non-null  float64\n",
      "dtypes: float64(22)\n",
      "memory usage: 10.6 MB\n"
     ]
    }
   ],
   "source": [
    "logit_df.info()"
   ]
  },
  {
   "cell_type": "code",
   "execution_count": 252,
   "metadata": {},
   "outputs": [],
   "source": [
    "y_logit = logit_df['Approved']\n",
    "X_logit = logit_df.drop(['Approved'], axis=1)"
   ]
  },
  {
   "cell_type": "code",
   "execution_count": 253,
   "metadata": {},
   "outputs": [],
   "source": [
    "for col in cat_cols:\n",
    "    X_logit[col] = X_logit[col].astype('category')"
   ]
  },
  {
   "cell_type": "code",
   "execution_count": 254,
   "metadata": {},
   "outputs": [],
   "source": [
    "dummies = pd.get_dummies(X_logit[cat_cols])"
   ]
  },
  {
   "cell_type": "code",
   "execution_count": 255,
   "metadata": {},
   "outputs": [],
   "source": [
    "col_names = num_cols\n",
    "scaled_data = StandardScaler().fit_transform(X_logit[num_cols])\n",
    "num_scaled_data = pd.DataFrame(scaled_data, columns=col_names, index=dummies.index)"
   ]
  },
  {
   "cell_type": "code",
   "execution_count": 256,
   "metadata": {},
   "outputs": [],
   "source": [
    "X_std_logit = pd.concat([num_scaled_data, dummies], axis=1)"
   ]
  },
  {
   "cell_type": "code",
   "execution_count": 257,
   "metadata": {},
   "outputs": [],
   "source": [
    "X_train_logit, X_test_logit, y_train_logit, y_test_logit = train_test_split(X_std_logit, y_logit, test_size=0.3)"
   ]
  },
  {
   "cell_type": "code",
   "execution_count": 321,
   "metadata": {},
   "outputs": [],
   "source": [
    "logit_model = LogisticRegression(class_weight='balanced', random_state=204)\n",
    "best_logit = GridSearchCV(logit_model, param_grid={'max_iter':[1000,2000,3000], 'C':[0.001, 0.01, 0.1, 1, 10, 100, 1000]}, \n",
    "                          scoring=kappa, cv=kfold, n_jobs=-1)"
   ]
  },
  {
   "cell_type": "code",
   "execution_count": 322,
   "metadata": {},
   "outputs": [
    {
     "data": {
      "text/plain": [
       "GridSearchCV(cv=StratifiedKFold(n_splits=5, random_state=204, shuffle=True),\n",
       "             estimator=LogisticRegression(class_weight='balanced',\n",
       "                                          random_state=204),\n",
       "             n_jobs=-1,\n",
       "             param_grid={'C': [0.001, 0.01, 0.1, 1, 10, 100, 1000],\n",
       "                         'max_iter': [1000, 2000, 3000]},\n",
       "             scoring=make_scorer(kappa_score))"
      ]
     },
     "execution_count": 322,
     "metadata": {},
     "output_type": "execute_result"
    }
   ],
   "source": [
    "best_logit.fit(X_train_logit, y_train_logit)"
   ]
  },
  {
   "cell_type": "code",
   "execution_count": 323,
   "metadata": {},
   "outputs": [
    {
     "data": {
      "text/plain": [
       "{'C': 10, 'max_iter': 1000}"
      ]
     },
     "execution_count": 323,
     "metadata": {},
     "output_type": "execute_result"
    }
   ],
   "source": [
    "best_logit.best_params_"
   ]
  },
  {
   "cell_type": "code",
   "execution_count": 258,
   "metadata": {},
   "outputs": [
    {
     "data": {
      "text/plain": [
       "0.8056811618417136"
      ]
     },
     "execution_count": 258,
     "metadata": {},
     "output_type": "execute_result"
    }
   ],
   "source": [
    "np.mean(cross_val_score(best_logit.best_estimator_, X_train_logit, y_train_logit, scoring='roc_auc', cv=kfold, n_jobs=-1))"
   ]
  },
  {
   "cell_type": "code",
   "execution_count": 259,
   "metadata": {},
   "outputs": [],
   "source": [
    "final_logit = LogisticRegression(class_weight='balanced', C=10, max_iter=1000, random_state=204)"
   ]
  },
  {
   "cell_type": "code",
   "execution_count": 260,
   "metadata": {},
   "outputs": [
    {
     "data": {
      "text/plain": [
       "LogisticRegression(C=10, class_weight='balanced', max_iter=1000,\n",
       "                   random_state=204)"
      ]
     },
     "execution_count": 260,
     "metadata": {},
     "output_type": "execute_result"
    }
   ],
   "source": [
    "final_logit.fit(X_train_logit, y_train_logit)"
   ]
  },
  {
   "cell_type": "code",
   "execution_count": 261,
   "metadata": {},
   "outputs": [],
   "source": [
    "logit_predictions = final_logit.predict(X_test_logit)"
   ]
  },
  {
   "cell_type": "code",
   "execution_count": 262,
   "metadata": {},
   "outputs": [
    {
     "data": {
      "text/plain": [
       "<sklearn.metrics._plot.confusion_matrix.ConfusionMatrixDisplay at 0x1afd4a71308>"
      ]
     },
     "execution_count": 262,
     "metadata": {},
     "output_type": "execute_result"
    },
    {
     "data": {
      "image/png": "[encoded data removed]",
      "text/plain": [
       "<Figure size 432x288 with 2 Axes>"
      ]
     },
     "metadata": {
      "needs_background": "light"
     },
     "output_type": "display_data"
    }
   ],
   "source": [
    "plot_confusion_matrix(final_logit, X_test_logit, y_test_logit, cmap=plt.cm.Blues)"
   ]
  },
  {
   "cell_type": "code",
   "execution_count": 263,
   "metadata": {},
   "outputs": [
    {
     "name": "stdout",
     "output_type": "stream",
     "text": [
      "              precision    recall  f1-score   support\n",
      "\n",
      "         0.0       1.00      0.70      0.82     17859\n",
      "         1.0       0.04      0.81      0.08       300\n",
      "\n",
      "    accuracy                           0.70     18159\n",
      "   macro avg       0.52      0.75      0.45     18159\n",
      "weighted avg       0.98      0.70      0.81     18159\n",
      "\n"
     ]
    }
   ],
   "source": [
    "print(classification_report(y_test_logit, logit_predictions))"
   ]
  },
  {
   "cell_type": "markdown",
   "metadata": {},
   "source": [
    "# Random Forest Model"
   ]
  },
  {
   "cell_type": "code",
   "execution_count": 264,
   "metadata": {},
   "outputs": [],
   "source": [
    "rf_df = bank_df_impute.copy(deep=True)"
   ]
  },
  {
   "cell_type": "code",
   "execution_count": 265,
   "metadata": {},
   "outputs": [],
   "source": [
    "for col in cat_cols:\n",
    "    rf_df[col] = rf_df[col].astype('category')"
   ]
  },
  {
   "cell_type": "code",
   "execution_count": 266,
   "metadata": {},
   "outputs": [],
   "source": [
    "y = rf_df['Approved']\n",
    "X = rf_df.drop(['Approved'], axis=1)"
   ]
  },
  {
   "cell_type": "code",
   "execution_count": 267,
   "metadata": {},
   "outputs": [],
   "source": [
    "X_train, X_test, y_train, y_test = train_test_split(X,y,test_size=0.3)"
   ]
  },
  {
   "cell_type": "code",
   "execution_count": 268,
   "metadata": {},
   "outputs": [
    {
     "name": "stdout",
     "output_type": "stream",
     "text": [
      "Estimator 50: 0.7564385933292312\n",
      "Estimator 100: 0.7814830332202025\n",
      "Estimator 150: 0.7940492225015959\n",
      "Estimator 200: 0.8011966685263994\n",
      "Estimator 250: 0.8053398136639682\n",
      "Estimator 300: 0.8076127703914471\n",
      "Estimator 350: 0.810757789494085\n",
      "Estimator 400: 0.8126046010633926\n",
      "Estimator 450: 0.8141719029372911\n",
      "Estimator 500: 0.8160312542504642\n",
      "Estimator 550: 0.816780980039244\n",
      "Estimator 600: 0.81759699534751\n",
      "Estimator 650: 0.8177605070915381\n",
      "Estimator 700: 0.8183428920638083\n",
      "Estimator 750: 0.8186101919369293\n",
      "Estimator 800: 0.8186647341599784\n"
     ]
    }
   ],
   "source": [
    "for estimator in range(50,850,50):\n",
    "    rf_model = RandomForestClassifier(n_estimators=estimator, random_state=204)\n",
    "    print(\"Estimator \" + str(estimator)+ \": \" + \n",
    "          str(np.mean(cross_val_score(rf_model, X_train, y_train, cv=kfold, scoring='roc_auc', n_jobs=-1))))"
   ]
  },
  {
   "cell_type": "code",
   "execution_count": 269,
   "metadata": {},
   "outputs": [],
   "source": [
    "rf_model_1 = RandomForestClassifier(n_estimators=500, oob_score=True, random_state=204)\n",
    "best_rfm_1 = GridSearchCV(rf_model_1, param_grid={'class_weight':['balanced',{0:2},{1:10}], 'max_depth':[None,3,4,6,10], \n",
    "                                                  'max_features':['sqrt','log2',None]},\n",
    "                        cv=kfold, scoring='roc_auc', n_jobs=-1)"
   ]
  },
  {
   "cell_type": "code",
   "execution_count": 270,
   "metadata": {},
   "outputs": [
    {
     "data": {
      "text/plain": [
       "GridSearchCV(cv=StratifiedKFold(n_splits=5, random_state=204, shuffle=True),\n",
       "             estimator=RandomForestClassifier(n_estimators=500, oob_score=True,\n",
       "                                              random_state=204),\n",
       "             n_jobs=-1,\n",
       "             param_grid={'class_weight': ['balanced', {0: 2}, {1: 10}],\n",
       "                         'max_depth': [None, 3, 4, 6, 10],\n",
       "                         'max_features': ['sqrt', 'log2', None]},\n",
       "             scoring='roc_auc')"
      ]
     },
     "execution_count": 270,
     "metadata": {},
     "output_type": "execute_result"
    }
   ],
   "source": [
    "best_rfm_1.fit(X_train, y_train)"
   ]
  },
  {
   "cell_type": "code",
   "execution_count": 271,
   "metadata": {},
   "outputs": [
    {
     "data": {
      "text/plain": [
       "{'class_weight': {1: 10}, 'max_depth': 10, 'max_features': 'sqrt'}"
      ]
     },
     "execution_count": 271,
     "metadata": {},
     "output_type": "execute_result"
    }
   ],
   "source": [
    "best_rfm_1.best_params_"
   ]
  },
  {
   "cell_type": "code",
   "execution_count": 272,
   "metadata": {},
   "outputs": [
    {
     "data": {
      "text/plain": [
       "0.8361742329688754"
      ]
     },
     "execution_count": 272,
     "metadata": {},
     "output_type": "execute_result"
    }
   ],
   "source": [
    "np.mean(cross_val_score(best_rfm_1.best_estimator_, X_train, y_train, cv=kfold, scoring='roc_auc', n_jobs=-1))"
   ]
  },
  {
   "cell_type": "code",
   "execution_count": 273,
   "metadata": {},
   "outputs": [],
   "source": [
    "rf_model_2 = RandomForestClassifier(n_estimators=500, oob_score=True, class_weight={1:10},\n",
    "                                    max_depth=10, max_features='sqrt', random_state=204)\n",
    "best_rfm_2 = GridSearchCV(rf_model_2, param_grid={'min_samples_leaf':[1,2,3,6,10], 'min_samples_split':[2,3,10,100,200]},\n",
    "                        cv=kfold, scoring='roc_auc', n_jobs=-1)"
   ]
  },
  {
   "cell_type": "code",
   "execution_count": 274,
   "metadata": {},
   "outputs": [
    {
     "data": {
      "text/plain": [
       "GridSearchCV(cv=StratifiedKFold(n_splits=5, random_state=204, shuffle=True),\n",
       "             estimator=RandomForestClassifier(class_weight={1: 10},\n",
       "                                              max_depth=10, max_features='sqrt',\n",
       "                                              n_estimators=500, oob_score=True,\n",
       "                                              random_state=204),\n",
       "             n_jobs=-1,\n",
       "             param_grid={'min_samples_leaf': [1, 2, 3, 6, 10],\n",
       "                         'min_samples_split': [2, 3, 10, 100, 200]},\n",
       "             scoring='roc_auc')"
      ]
     },
     "execution_count": 274,
     "metadata": {},
     "output_type": "execute_result"
    }
   ],
   "source": [
    "best_rfm_2.fit(X_train, y_train)"
   ]
  },
  {
   "cell_type": "code",
   "execution_count": 275,
   "metadata": {},
   "outputs": [
    {
     "data": {
      "text/plain": [
       "{'min_samples_leaf': 6, 'min_samples_split': 2}"
      ]
     },
     "execution_count": 275,
     "metadata": {},
     "output_type": "execute_result"
    }
   ],
   "source": [
    "best_rfm_2.best_params_"
   ]
  },
  {
   "cell_type": "code",
   "execution_count": 276,
   "metadata": {},
   "outputs": [
    {
     "data": {
      "text/plain": [
       "0.8366638532802806"
      ]
     },
     "execution_count": 276,
     "metadata": {},
     "output_type": "execute_result"
    }
   ],
   "source": [
    "np.mean(cross_val_score(best_rfm_2.best_estimator_, X_train, y_train, cv=kfold, scoring='roc_auc', n_jobs=-1))"
   ]
  },
  {
   "cell_type": "code",
   "execution_count": 282,
   "metadata": {},
   "outputs": [],
   "source": [
    "final_rf_model = RandomForestClassifier(n_estimators=500, class_weight='balanced', max_depth=10, max_features='sqrt', \n",
    "                                        min_samples_leaf=6, min_samples_split=2, oob_score=True, random_state=204)"
   ]
  },
  {
   "cell_type": "code",
   "execution_count": 278,
   "metadata": {},
   "outputs": [
    {
     "data": {
      "text/plain": [
       "0.8366638532802806"
      ]
     },
     "execution_count": 278,
     "metadata": {},
     "output_type": "execute_result"
    }
   ],
   "source": [
    "np.mean(cross_val_score(final_rf_model, X_train, y_train, cv=kfold, scoring='roc_auc', n_jobs=-1))"
   ]
  },
  {
   "cell_type": "code",
   "execution_count": 283,
   "metadata": {},
   "outputs": [
    {
     "data": {
      "text/plain": [
       "RandomForestClassifier(class_weight='balanced', max_depth=10,\n",
       "                       max_features='sqrt', min_samples_leaf=6,\n",
       "                       n_estimators=500, oob_score=True, random_state=204)"
      ]
     },
     "execution_count": 283,
     "metadata": {},
     "output_type": "execute_result"
    }
   ],
   "source": [
    "final_rf_model.fit(X_train, y_train)"
   ]
  },
  {
   "cell_type": "code",
   "execution_count": 284,
   "metadata": {},
   "outputs": [],
   "source": [
    "rf_predictions = final_rf_model.predict(X_test)"
   ]
  },
  {
   "cell_type": "code",
   "execution_count": 285,
   "metadata": {},
   "outputs": [
    {
     "data": {
      "text/plain": [
       "<sklearn.metrics._plot.confusion_matrix.ConfusionMatrixDisplay at 0x1afd4a35b08>"
      ]
     },
     "execution_count": 285,
     "metadata": {},
     "output_type": "execute_result"
    },
    {
     "data": {
      "image/png": "[encoded data removed]",
      "text/plain": [
       "<Figure size 432x288 with 2 Axes>"
      ]
     },
     "metadata": {
      "needs_background": "light"
     },
     "output_type": "display_data"
    }
   ],
   "source": [
    "plot_confusion_matrix(final_rf_model, X_test, y_test, cmap=plt.cm.Blues)"
   ]
  },
  {
   "cell_type": "code",
   "execution_count": 286,
   "metadata": {},
   "outputs": [
    {
     "name": "stdout",
     "output_type": "stream",
     "text": [
      "              precision    recall  f1-score   support\n",
      "\n",
      "         0.0       0.99      0.85      0.92     17858\n",
      "         1.0       0.06      0.60      0.11       301\n",
      "\n",
      "    accuracy                           0.84     18159\n",
      "   macro avg       0.53      0.73      0.51     18159\n",
      "weighted avg       0.98      0.84      0.90     18159\n",
      "\n"
     ]
    }
   ],
   "source": [
    "print(classification_report(y_test, rf_predictions))"
   ]
  },
  {
   "cell_type": "markdown",
   "metadata": {},
   "source": [
    "# Xtreme Gradient Boosting Model"
   ]
  },
  {
   "cell_type": "code",
   "execution_count": 287,
   "metadata": {},
   "outputs": [],
   "source": [
    "xgb_df = bank_df_impute.copy(deep=True)"
   ]
  },
  {
   "cell_type": "code",
   "execution_count": 288,
   "metadata": {},
   "outputs": [],
   "source": [
    "for col in cat_cols:\n",
    "    xgb_df[col] = xgb_df[col].astype(int).astype('category')"
   ]
  },
  {
   "cell_type": "code",
   "execution_count": 289,
   "metadata": {},
   "outputs": [],
   "source": [
    "y_xgb = xgb_df['Approved']\n",
    "X_xgb = xgb_df.drop(['Approved'], axis=1)"
   ]
  },
  {
   "cell_type": "code",
   "execution_count": 290,
   "metadata": {},
   "outputs": [],
   "source": [
    "X_xgb = pd.get_dummies(X_xgb)"
   ]
  },
  {
   "cell_type": "code",
   "execution_count": 291,
   "metadata": {},
   "outputs": [],
   "source": [
    "X_train_xgb, X_test_xgb, y_train_xgb, y_test_xgb = train_test_split(X_xgb, y_xgb, test_size=0.3)"
   ]
  },
  {
   "cell_type": "code",
   "execution_count": 292,
   "metadata": {},
   "outputs": [],
   "source": [
    "weight_1 = len([val for val in y_train_xgb if val==0])/len([val for val in y_train_xgb if val==1])\n",
    "xgb_model = XGBClassifier(random_state=402)\n",
    "best_xgb_model = GridSearchCV(xgb_model, param_grid={'scale_pos_weight':[weight_1,1,10,100], 'n_estimators':[750,1000,1500,2000], \n",
    "                                                     'learning_rate':[0.001,0.01,0.1]},\n",
    "                             scoring=kappa, cv=kfold, n_jobs=-1)"
   ]
  },
  {
   "cell_type": "code",
   "execution_count": 360,
   "metadata": {},
   "outputs": [
    {
     "data": {
      "text/plain": [
       "GridSearchCV(cv=StratifiedKFold(n_splits=5, random_state=204, shuffle=True),\n",
       "             estimator=XGBClassifier(base_score=None, booster=None,\n",
       "                                     colsample_bylevel=None,\n",
       "                                     colsample_bynode=None,\n",
       "                                     colsample_bytree=None, gamma=None,\n",
       "                                     gpu_id=None, importance_type='gain',\n",
       "                                     interaction_constraints=None,\n",
       "                                     learning_rate=None, max_delta_step=None,\n",
       "                                     max_depth=None, min_child_weight=None,\n",
       "                                     missi...\n",
       "                                     n_estimators=100, n_jobs=None,\n",
       "                                     num_parallel_tree=None, random_state=402,\n",
       "                                     reg_alpha=None, reg_lambda=None,\n",
       "                                     scale_pos_weight=None, subsample=None,\n",
       "                                     tree_method=None, validate_parameters=None,\n",
       "                                     verbosity=None),\n",
       "             n_jobs=-1,\n",
       "             param_grid={'learning_rate': [0.001, 0.01, 0.1],\n",
       "                         'n_estimators': [750, 1000, 1500, 2000],\n",
       "                         'scale_pos_weight': [61.86498516320475, 1, 10, 100]},\n",
       "             scoring=make_scorer(kappa_score))"
      ]
     },
     "execution_count": 360,
     "metadata": {},
     "output_type": "execute_result"
    }
   ],
   "source": [
    "best_xgb_model.fit(X_train_xgb, y_train_xgb)"
   ]
  },
  {
   "cell_type": "code",
   "execution_count": 361,
   "metadata": {},
   "outputs": [
    {
     "data": {
      "text/plain": [
       "{'learning_rate': 0.01, 'n_estimators': 750, 'scale_pos_weight': 10}"
      ]
     },
     "execution_count": 361,
     "metadata": {},
     "output_type": "execute_result"
    }
   ],
   "source": [
    "best_xgb_model.best_params_"
   ]
  },
  {
   "cell_type": "code",
   "execution_count": 363,
   "metadata": {},
   "outputs": [
    {
     "data": {
      "text/plain": [
       "0.8365748753933175"
      ]
     },
     "execution_count": 363,
     "metadata": {},
     "output_type": "execute_result"
    }
   ],
   "source": [
    "np.mean(cross_val_score(best_xgb_model.best_estimator_, X_train_xgb, y_train_xgb, cv=kfold, scoring='roc_auc', n_jobs=-1))"
   ]
  },
  {
   "cell_type": "code",
   "execution_count": 364,
   "metadata": {},
   "outputs": [],
   "source": [
    "xgb_model_1 = XGBClassifier(n_estimators=750, learning_rate=0.01, scale_pos_weight=10, random_state=402)\n",
    "best_xgb_model_1 = GridSearchCV(xgb_model_1, param_grid={'max_depth':[3,6,8,10], 'min_child_weight':[1,3,6,10]},\n",
    "                             scoring=kappa, cv=kfold, n_jobs=-1)"
   ]
  },
  {
   "cell_type": "code",
   "execution_count": 365,
   "metadata": {},
   "outputs": [
    {
     "data": {
      "text/plain": [
       "GridSearchCV(cv=StratifiedKFold(n_splits=5, random_state=204, shuffle=True),\n",
       "             estimator=XGBClassifier(base_score=None, booster=None,\n",
       "                                     colsample_bylevel=None,\n",
       "                                     colsample_bynode=None,\n",
       "                                     colsample_bytree=None, gamma=None,\n",
       "                                     gpu_id=None, importance_type='gain',\n",
       "                                     interaction_constraints=None,\n",
       "                                     learning_rate=0.01, max_delta_step=None,\n",
       "                                     max_depth=None, min_child_weight=None,\n",
       "                                     missing=nan, monotone_constraints=None,\n",
       "                                     n_estimators=750, n_jobs=None,\n",
       "                                     num_parallel_tree=None, random_state=402,\n",
       "                                     reg_alpha=None, reg_lambda=None,\n",
       "                                     scale_pos_weight=10, subsample=None,\n",
       "                                     tree_method=None, validate_parameters=None,\n",
       "                                     verbosity=None),\n",
       "             n_jobs=-1,\n",
       "             param_grid={'max_depth': [3, 6, 8, 10],\n",
       "                         'min_child_weight': [1, 3, 6, 10]},\n",
       "             scoring=make_scorer(kappa_score))"
      ]
     },
     "execution_count": 365,
     "metadata": {},
     "output_type": "execute_result"
    }
   ],
   "source": [
    "best_xgb_model_1.fit(X_train_xgb, y_train_xgb)"
   ]
  },
  {
   "cell_type": "code",
   "execution_count": 366,
   "metadata": {},
   "outputs": [
    {
     "data": {
      "text/plain": [
       "{'max_depth': 6, 'min_child_weight': 1}"
      ]
     },
     "execution_count": 366,
     "metadata": {},
     "output_type": "execute_result"
    }
   ],
   "source": [
    "best_xgb_model_1.best_params_"
   ]
  },
  {
   "cell_type": "code",
   "execution_count": 367,
   "metadata": {},
   "outputs": [
    {
     "data": {
      "text/plain": [
       "0.8365748753933175"
      ]
     },
     "execution_count": 367,
     "metadata": {},
     "output_type": "execute_result"
    }
   ],
   "source": [
    "np.mean(cross_val_score(best_xgb_model_1.best_estimator_, X_train_xgb, y_train_xgb, cv=kfold, scoring='roc_auc', n_jobs=-1))"
   ]
  },
  {
   "cell_type": "code",
   "execution_count": 368,
   "metadata": {},
   "outputs": [],
   "source": [
    "xgb_model_2 = XGBClassifier(n_estimators=750, learning_rate=0.01, scale_pos_weight=10, max_depth=6, min_child_weight=1, \n",
    "                            subsample=0.8, colsample_bytree=0.6, random_state=402)\n",
    "best_xgb_model_2 = GridSearchCV(xgb_model_2, param_grid={'gamma':[0,0.1,0.5,1,10,50]},\n",
    "                             scoring=kappa, cv=kfold, n_jobs=-1)"
   ]
  },
  {
   "cell_type": "code",
   "execution_count": 369,
   "metadata": {},
   "outputs": [
    {
     "data": {
      "text/plain": [
       "GridSearchCV(cv=StratifiedKFold(n_splits=5, random_state=204, shuffle=True),\n",
       "             estimator=XGBClassifier(base_score=None, booster=None,\n",
       "                                     colsample_bylevel=None,\n",
       "                                     colsample_bynode=None,\n",
       "                                     colsample_bytree=0.6, gamma=None,\n",
       "                                     gpu_id=None, importance_type='gain',\n",
       "                                     interaction_constraints=None,\n",
       "                                     learning_rate=0.01, max_delta_step=None,\n",
       "                                     max_depth=6, min_child_weight=1,\n",
       "                                     missing=nan, monotone_constraints=None,\n",
       "                                     n_estimators=750, n_jobs=None,\n",
       "                                     num_parallel_tree=None, random_state=402,\n",
       "                                     reg_alpha=None, reg_lambda=None,\n",
       "                                     scale_pos_weight=10, subsample=0.8,\n",
       "                                     tree_method=None, validate_parameters=None,\n",
       "                                     verbosity=None),\n",
       "             n_jobs=-1, param_grid={'gamma': [0, 0.1, 0.5, 1, 10, 50]},\n",
       "             scoring=make_scorer(kappa_score))"
      ]
     },
     "execution_count": 369,
     "metadata": {},
     "output_type": "execute_result"
    }
   ],
   "source": [
    "best_xgb_model_2.fit(X_train_xgb, y_train_xgb)"
   ]
  },
  {
   "cell_type": "code",
   "execution_count": 106,
   "metadata": {},
   "outputs": [
    {
     "data": {
      "text/plain": [
       "{'gamma': 0.5}"
      ]
     },
     "execution_count": 106,
     "metadata": {},
     "output_type": "execute_result"
    }
   ],
   "source": [
    "best_xgb_model_2.best_params_"
   ]
  },
  {
   "cell_type": "code",
   "execution_count": 370,
   "metadata": {},
   "outputs": [
    {
     "data": {
      "text/plain": [
       "0.844190513020871"
      ]
     },
     "execution_count": 370,
     "metadata": {},
     "output_type": "execute_result"
    }
   ],
   "source": [
    "np.mean(cross_val_score(best_xgb_model_2.best_estimator_, X_train_xgb, y_train_xgb, cv=kfold, scoring='roc_auc', n_jobs=-1))"
   ]
  },
  {
   "cell_type": "code",
   "execution_count": 371,
   "metadata": {},
   "outputs": [],
   "source": [
    "xgb_model_3 = XGBClassifier(n_estimators=750, learning_rate=0.01, scale_pos_weight=10, max_depth=6, min_child_weight=1, \n",
    "                            subsample=0.8, colsample_bytree=0.6, gamma=0.5, random_state=402)\n",
    "best_xgb_model_3 = GridSearchCV(xgb_model_3, param_grid={'reg_alpha':[1e-10, 1e-5, 1e-2, 0.1, 1, 10, 100],\n",
    "                                                         'reg_lambda':[1e-10, 1e-5, 1e-2, 0.1, 1, 10, 100]},\n",
    "                             scoring=kappa, cv=kfold, n_jobs=-1)"
   ]
  },
  {
   "cell_type": "code",
   "execution_count": 372,
   "metadata": {},
   "outputs": [
    {
     "data": {
      "text/plain": [
       "GridSearchCV(cv=StratifiedKFold(n_splits=5, random_state=204, shuffle=True),\n",
       "             estimator=XGBClassifier(base_score=None, booster=None,\n",
       "                                     colsample_bylevel=None,\n",
       "                                     colsample_bynode=None,\n",
       "                                     colsample_bytree=0.6, gamma=0.5,\n",
       "                                     gpu_id=None, importance_type='gain',\n",
       "                                     interaction_constraints=None,\n",
       "                                     learning_rate=0.01, max_delta_step=None,\n",
       "                                     max_depth=6, min_child_weight=1,\n",
       "                                     missing=nan, m...traints=None,\n",
       "                                     n_estimators=750, n_jobs=None,\n",
       "                                     num_parallel_tree=None, random_state=402,\n",
       "                                     reg_alpha=None, reg_lambda=None,\n",
       "                                     scale_pos_weight=10, subsample=0.8,\n",
       "                                     tree_method=None, validate_parameters=None,\n",
       "                                     verbosity=None),\n",
       "             n_jobs=-1,\n",
       "             param_grid={'reg_alpha': [1e-10, 1e-05, 0.01, 0.1, 1, 10, 100],\n",
       "                         'reg_lambda': [1e-10, 1e-05, 0.01, 0.1, 1, 10, 100]},\n",
       "             scoring=make_scorer(kappa_score))"
      ]
     },
     "execution_count": 372,
     "metadata": {},
     "output_type": "execute_result"
    }
   ],
   "source": [
    "best_xgb_model_3.fit(X_train_xgb, y_train_xgb)"
   ]
  },
  {
   "cell_type": "code",
   "execution_count": 373,
   "metadata": {},
   "outputs": [
    {
     "data": {
      "text/plain": [
       "{'reg_alpha': 10, 'reg_lambda': 1}"
      ]
     },
     "execution_count": 373,
     "metadata": {},
     "output_type": "execute_result"
    }
   ],
   "source": [
    "best_xgb_model_3.best_params_"
   ]
  },
  {
   "cell_type": "code",
   "execution_count": 374,
   "metadata": {},
   "outputs": [
    {
     "data": {
      "text/plain": [
       "0.8415470584690004"
      ]
     },
     "execution_count": 374,
     "metadata": {},
     "output_type": "execute_result"
    }
   ],
   "source": [
    "np.mean(cross_val_score(best_xgb_model_3.best_estimator_, X_train_xgb, y_train_xgb, cv=kfold, scoring='roc_auc', n_jobs=-1))"
   ]
  },
  {
   "cell_type": "code",
   "execution_count": 293,
   "metadata": {},
   "outputs": [],
   "source": [
    "final_xgb_model = XGBClassifier(n_estimators=750, learning_rate=0.01, scale_pos_weight=weight_1, max_depth=6, min_child_weight=1, \n",
    "                            subsample=0.8, colsample_bytree=0.6, gamma=0.5, reg_alpha=10, reg_lambda=1, random_state=402)"
   ]
  },
  {
   "cell_type": "code",
   "execution_count": 294,
   "metadata": {},
   "outputs": [
    {
     "data": {
      "text/plain": [
       "0.8322905304625158"
      ]
     },
     "execution_count": 294,
     "metadata": {},
     "output_type": "execute_result"
    }
   ],
   "source": [
    "np.mean(cross_val_score(final_xgb_model, X_train_xgb, y_train_xgb, cv=kfold, scoring='roc_auc', n_jobs=-1))"
   ]
  },
  {
   "cell_type": "code",
   "execution_count": 295,
   "metadata": {},
   "outputs": [
    {
     "data": {
      "text/plain": [
       "XGBClassifier(base_score=0.5, booster='gbtree', colsample_bylevel=1,\n",
       "              colsample_bynode=1, colsample_bytree=0.6, gamma=0.5, gpu_id=-1,\n",
       "              importance_type='gain', interaction_constraints='',\n",
       "              learning_rate=0.01, max_delta_step=0, max_depth=6,\n",
       "              min_child_weight=1, missing=nan, monotone_constraints='()',\n",
       "              n_estimators=750, n_jobs=0, num_parallel_tree=1, random_state=402,\n",
       "              reg_alpha=10, reg_lambda=1, scale_pos_weight=60.40724637681159,\n",
       "              subsample=0.8, tree_method='exact', validate_parameters=1,\n",
       "              verbosity=None)"
      ]
     },
     "execution_count": 295,
     "metadata": {},
     "output_type": "execute_result"
    }
   ],
   "source": [
    "final_xgb_model.fit(X_train_xgb, y_train_xgb)"
   ]
  },
  {
   "cell_type": "code",
   "execution_count": 296,
   "metadata": {},
   "outputs": [],
   "source": [
    "xgb_predictions = final_xgb_model.predict(X_test_xgb)"
   ]
  },
  {
   "cell_type": "code",
   "execution_count": 404,
   "metadata": {},
   "outputs": [
    {
     "data": {
      "text/plain": [
       "<sklearn.metrics._plot.confusion_matrix.ConfusionMatrixDisplay at 0x1d1aeecde88>"
      ]
     },
     "execution_count": 404,
     "metadata": {},
     "output_type": "execute_result"
    },
    {
     "data": {
      "image/png": "[encoded data removed]",
      "text/plain": [
       "<Figure size 432x288 with 2 Axes>"
      ]
     },
     "metadata": {
      "needs_background": "light"
     },
     "output_type": "display_data"
    }
   ],
   "source": [
    "plot_confusion_matrix(final_xgb_model, X_test_xgb, y_test_xgb, cmap=plt.cm.Blues)"
   ]
  },
  {
   "cell_type": "code",
   "execution_count": 405,
   "metadata": {},
   "outputs": [
    {
     "name": "stdout",
     "output_type": "stream",
     "text": [
      "              precision    recall  f1-score   support\n",
      "\n",
      "         0.0       0.99      0.81      0.89     17845\n",
      "         1.0       0.06      0.68      0.11       314\n",
      "\n",
      "    accuracy                           0.81     18159\n",
      "   macro avg       0.53      0.75      0.50     18159\n",
      "weighted avg       0.98      0.81      0.88     18159\n",
      "\n"
     ]
    }
   ],
   "source": [
    "print(classification_report(y_test_xgb, xgb_predictions))"
   ]
  },
  {
   "cell_type": "code",
   "execution_count": null,
   "metadata": {},
   "outputs": [],
   "source": []
  },
  {
   "cell_type": "code",
   "execution_count": null,
   "metadata": {},
   "outputs": [],
   "source": []
  }
 ],
 "metadata": {
  "kernelspec": {
   "display_name": "Python 3",
   "language": "python",
   "name": "python3"
  },
  "language_info": {
   "codemirror_mode": {
    "name": "ipython",
    "version": 3
   },
   "file_extension": ".py",
   "mimetype": "text/x-python",
   "name": "python",
   "nbconvert_exporter": "python",
   "pygments_lexer": "ipython3",
   "version": "3.7.7"
  }
 },
 "nbformat": 4,
 "nbformat_minor": 4
}
